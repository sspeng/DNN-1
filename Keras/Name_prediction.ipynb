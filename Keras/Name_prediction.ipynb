{
 "cells": [
  {
   "cell_type": "markdown",
   "metadata": {},
   "source": [
    "# Name Prediction"
   ]
  },
  {
   "cell_type": "markdown",
   "metadata": {},
   "source": [
    "We are provided with some data of Names(Male and Female). So we need to predict out model based on this data such that it should be able to predict that the given name belongs to a male or a female."
   ]
  },
  {
   "cell_type": "markdown",
   "metadata": {},
   "source": [
    "Import the required modules."
   ]
  },
  {
   "cell_type": "code",
   "execution_count": 114,
   "metadata": {},
   "outputs": [],
   "source": [
    "import numpy as np\n",
    "import pandas as pd\n",
    "from sklearn.model_selection import train_test_split\n",
    "import keras\n",
    "from keras.callbacks import EarlyStopping\n",
    "from keras.models import Sequential\n",
    "from keras.layers import Dense\n",
    "from keras.layers import Dropout\n",
    "from keras.optimizers import RMSprop\n",
    "from sklearn.preprocessing import LabelEncoder\n",
    "import matplotlib.pyplot as plt\n",
    "%matplotlib inline"
   ]
  },
  {
   "cell_type": "markdown",
   "metadata": {},
   "source": [
    "Load and store the data."
   ]
  },
  {
   "cell_type": "code",
   "execution_count": 2,
   "metadata": {
    "collapsed": true
   },
   "outputs": [],
   "source": [
    "data_male = pd.read_table(\"./Data/male.txt\",comment='#', names=['Name'])\n",
    "data_male['M_F_P'] = \"Male\"\n",
    "data_female = pd.read_table(\"./Data/female.txt\",comment='#',names=['Name'])\n",
    "data_female['M_F_P'] = \"Female\"\n",
    "#data_pet = pd.read_csv(\"./Data/pet.txt\",sep=\"\\t+\",comment='#',names=['Name','M_F_P'])"
   ]
  },
  {
   "cell_type": "markdown",
   "metadata": {},
   "source": [
    "Combine both the dataframes into one."
   ]
  },
  {
   "cell_type": "code",
   "execution_count": 41,
   "metadata": {
    "collapsed": true
   },
   "outputs": [],
   "source": [
    "data = pd.concat([data_male, data_female], ignore_index=True)"
   ]
  },
  {
   "cell_type": "markdown",
   "metadata": {},
   "source": [
    "Training function of **Keras** accepts numerical data as input so we need to convert strings( names) into some numeric form."
   ]
  },
  {
   "cell_type": "markdown",
   "metadata": {},
   "source": [
    "    Accept all names into lower case.\n",
    "    Find out ASCII value of each character.\n",
    "    And then normalize the given data."
   ]
  },
  {
   "cell_type": "code",
   "execution_count": 43,
   "metadata": {},
   "outputs": [],
   "source": [
    "max_len = 0\n",
    "nums = []\n",
    "for eachName in data.Name: \n",
    "    nums.append([((ord(c)-96)/26) for c in eachName.lower()])    \n",
    "    if max_len < len(eachName):\n",
    "        max_len = len(eachName)"
   ]
  },
  {
   "cell_type": "markdown",
   "metadata": {},
   "source": [
    "Create an empty matrix to store the data of size = (maximum_length_of_any_word) * (Total_Length)\n",
    "Max. size because we need to add padding for each word to match the input nodes of our model."
   ]
  },
  {
   "cell_type": "code",
   "execution_count": 44,
   "metadata": {
    "collapsed": true
   },
   "outputs": [],
   "source": [
    "data_x = np.zeros((len(data.Name), max_len))"
   ]
  },
  {
   "cell_type": "markdown",
   "metadata": {},
   "source": [
    "Now store names(ascii values) into empty matrix."
   ]
  },
  {
   "cell_type": "code",
   "execution_count": 45,
   "metadata": {
    "collapsed": true
   },
   "outputs": [],
   "source": [
    "for i in range(0,len(nums)):\n",
    "    for j in range(0,len(nums[i])):\n",
    "        data_x[i][j] = nums[i][j]"
   ]
  },
  {
   "cell_type": "code",
   "execution_count": 158,
   "metadata": {
    "collapsed": true
   },
   "outputs": [],
   "source": [
    "data_y = data.M_F_P"
   ]
  },
  {
   "cell_type": "markdown",
   "metadata": {},
   "source": [
    "Divide training data and test data."
   ]
  },
  {
   "cell_type": "code",
   "execution_count": 159,
   "metadata": {
    "collapsed": true
   },
   "outputs": [],
   "source": [
    "X_train, X_test, y_train, y_test = train_test_split(data_x, data_y, test_size=0.20, random_state=30)"
   ]
  },
  {
   "cell_type": "markdown",
   "metadata": {},
   "source": [
    "Apply one hot coding out output data(training as well as testing)."
   ]
  },
  {
   "cell_type": "code",
   "execution_count": 161,
   "metadata": {
    "collapsed": true
   },
   "outputs": [],
   "source": [
    "encoder = LabelEncoder()\n",
    "encoder.fit(y_train)\n",
    "encoded_Y = encoder.transform(y_train)\n",
    "# convert integers to dummy variables (i.e. one hot encoded)\n",
    "train_y = keras.utils.to_categorical(encoded_Y)"
   ]
  },
  {
   "cell_type": "code",
   "execution_count": 162,
   "metadata": {
    "collapsed": true
   },
   "outputs": [],
   "source": [
    "#encoder.fit(y_train)\n",
    "encoded_Y = encoder.transform(y_test)\n",
    "# convert integers to dummy variables (i.e. one hot encoded)\n",
    "test_y = keras.utils.to_categorical(encoded_Y)"
   ]
  },
  {
   "cell_type": "code",
   "execution_count": 163,
   "metadata": {},
   "outputs": [
    {
     "data": {
      "text/plain": [
       "array([[ 1.,  0.],\n",
       "       [ 1.,  0.],\n",
       "       [ 1.,  0.],\n",
       "       ..., \n",
       "       [ 1.,  0.],\n",
       "       [ 1.,  0.],\n",
       "       [ 1.,  0.]])"
      ]
     },
     "execution_count": 163,
     "metadata": {},
     "output_type": "execute_result"
    }
   ],
   "source": [
    "test_y"
   ]
  },
  {
   "cell_type": "markdown",
   "metadata": {},
   "source": [
    "## MODEL 1 "
   ]
  },
  {
   "cell_type": "markdown",
   "metadata": {},
   "source": [
    "**--Total 4 layers.**\n",
    "    1. Input layer - 15 Nodes. i.e. Max. length of any word.\n",
    "    2. 2 hidden layers - (1st with 524 nodes and second with 1024 nodes.)\n",
    "    3. output layer - 2 Nodes (Male or Female)"
   ]
  },
  {
   "cell_type": "code",
   "execution_count": 53,
   "metadata": {
    "collapsed": true
   },
   "outputs": [],
   "source": [
    "model1 = Sequential()"
   ]
  },
  {
   "cell_type": "code",
   "execution_count": 54,
   "metadata": {
    "collapsed": true
   },
   "outputs": [],
   "source": [
    "model1.add(Dense(524, activation='relu', input_shape=(15,)))\n",
    "model1.add(Dense(1024, activation='relu'))\n",
    "model1.add(Dense(2, activation='softmax'))"
   ]
  },
  {
   "cell_type": "code",
   "execution_count": 55,
   "metadata": {},
   "outputs": [
    {
     "name": "stdout",
     "output_type": "stream",
     "text": [
      "_________________________________________________________________\n",
      "Layer (type)                 Output Shape              Param #   \n",
      "=================================================================\n",
      "dense_10 (Dense)             (None, 524)               8384      \n",
      "_________________________________________________________________\n",
      "dense_11 (Dense)             (None, 1024)              537600    \n",
      "_________________________________________________________________\n",
      "dense_12 (Dense)             (None, 2)                 2050      \n",
      "=================================================================\n",
      "Total params: 548,034\n",
      "Trainable params: 548,034\n",
      "Non-trainable params: 0\n",
      "_________________________________________________________________\n"
     ]
    }
   ],
   "source": [
    "model1.summary()"
   ]
  },
  {
   "cell_type": "code",
   "execution_count": 56,
   "metadata": {
    "collapsed": true
   },
   "outputs": [],
   "source": [
    "model1.compile(optimizer=RMSprop(),\n",
    "             loss='categorical_crossentropy',\n",
    "             metrics = ['accuracy'])"
   ]
  },
  {
   "cell_type": "code",
   "execution_count": 57,
   "metadata": {},
   "outputs": [
    {
     "name": "stdout",
     "output_type": "stream",
     "text": [
      "Train on 5084 samples, validate on 1271 samples\n",
      "Epoch 1/50\n",
      "0s - loss: 0.6609 - acc: 0.6220 - val_loss: 0.7111 - val_acc: 0.4642\n",
      "Epoch 2/50\n",
      "0s - loss: 0.6504 - acc: 0.6393 - val_loss: 0.6778 - val_acc: 0.5814\n",
      "Epoch 3/50\n",
      "0s - loss: 0.6371 - acc: 0.6517 - val_loss: 0.7448 - val_acc: 0.4847\n",
      "Epoch 4/50\n",
      "0s - loss: 0.6351 - acc: 0.6548 - val_loss: 0.6712 - val_acc: 0.6184\n",
      "Epoch 5/50\n",
      "0s - loss: 0.6297 - acc: 0.6613 - val_loss: 0.6712 - val_acc: 0.5972\n",
      "Epoch 6/50\n",
      "0s - loss: 0.6217 - acc: 0.6654 - val_loss: 0.6752 - val_acc: 0.6121\n",
      "Epoch 7/50\n",
      "0s - loss: 0.6149 - acc: 0.6731 - val_loss: 0.8701 - val_acc: 0.6090\n",
      "Epoch 8/50\n",
      "0s - loss: 0.6203 - acc: 0.6788 - val_loss: 0.6521 - val_acc: 0.6326\n",
      "Epoch 9/50\n",
      "0s - loss: 0.6076 - acc: 0.6794 - val_loss: 0.6621 - val_acc: 0.6050\n",
      "Epoch 10/50\n",
      "0s - loss: 0.6039 - acc: 0.6843 - val_loss: 0.6829 - val_acc: 0.5877\n",
      "Epoch 11/50\n",
      "0s - loss: 0.6032 - acc: 0.6831 - val_loss: 0.6931 - val_acc: 0.5862\n",
      "Epoch 12/50\n",
      "0s - loss: 0.5981 - acc: 0.6890 - val_loss: 0.6948 - val_acc: 0.6035\n",
      "Epoch 13/50\n",
      "0s - loss: 0.5958 - acc: 0.6914 - val_loss: 0.6676 - val_acc: 0.6310\n",
      "Epoch 14/50\n",
      "0s - loss: 0.5954 - acc: 0.6843 - val_loss: 0.6604 - val_acc: 0.6279\n",
      "Epoch 15/50\n",
      "0s - loss: 0.5938 - acc: 0.6924 - val_loss: 0.6812 - val_acc: 0.6153\n",
      "Epoch 16/50\n",
      "0s - loss: 0.5908 - acc: 0.6932 - val_loss: 0.7106 - val_acc: 0.5814\n",
      "Epoch 17/50\n",
      "0s - loss: 0.5854 - acc: 0.6983 - val_loss: 0.8504 - val_acc: 0.4965\n",
      "Epoch 18/50\n",
      "0s - loss: 0.5929 - acc: 0.6882 - val_loss: 0.7119 - val_acc: 0.5995\n",
      "Epoch 19/50\n",
      "0s - loss: 0.5827 - acc: 0.7000 - val_loss: 0.8025 - val_acc: 0.6105\n",
      "Epoch 20/50\n",
      "0s - loss: 0.5821 - acc: 0.7010 - val_loss: 0.7583 - val_acc: 0.6231\n",
      "Epoch 21/50\n",
      "0s - loss: 0.5749 - acc: 0.7085 - val_loss: 0.7117 - val_acc: 0.6231\n",
      "Epoch 22/50\n",
      "0s - loss: 0.5767 - acc: 0.7018 - val_loss: 0.7112 - val_acc: 0.5869\n",
      "Epoch 23/50\n",
      "0s - loss: 0.5719 - acc: 0.7050 - val_loss: 0.6866 - val_acc: 0.6058\n",
      "Epoch 24/50\n",
      "0s - loss: 0.5666 - acc: 0.7120 - val_loss: 0.7370 - val_acc: 0.5964\n",
      "Epoch 25/50\n",
      "0s - loss: 0.5647 - acc: 0.7132 - val_loss: 0.7697 - val_acc: 0.5736\n",
      "Epoch 26/50\n",
      "0s - loss: 0.5647 - acc: 0.7103 - val_loss: 0.6595 - val_acc: 0.6318\n",
      "Epoch 27/50\n",
      "0s - loss: 0.5553 - acc: 0.7232 - val_loss: 0.7167 - val_acc: 0.6050\n",
      "Epoch 28/50\n",
      "0s - loss: 0.5597 - acc: 0.7134 - val_loss: 0.6815 - val_acc: 0.6365\n",
      "Epoch 29/50\n",
      "0s - loss: 0.5546 - acc: 0.7225 - val_loss: 0.6886 - val_acc: 0.6310\n",
      "Epoch 30/50\n",
      "0s - loss: 0.5567 - acc: 0.7195 - val_loss: 0.8531 - val_acc: 0.6113\n",
      "Epoch 31/50\n",
      "0s - loss: 0.5579 - acc: 0.7191 - val_loss: 0.6829 - val_acc: 0.6145\n",
      "Epoch 32/50\n",
      "0s - loss: 0.5480 - acc: 0.7203 - val_loss: 0.6938 - val_acc: 0.6223\n",
      "Epoch 33/50\n",
      "0s - loss: 0.5450 - acc: 0.7260 - val_loss: 0.7696 - val_acc: 0.6279\n",
      "Epoch 34/50\n",
      "0s - loss: 0.5508 - acc: 0.7270 - val_loss: 0.7280 - val_acc: 0.6192\n",
      "Epoch 35/50\n",
      "0s - loss: 0.5453 - acc: 0.7272 - val_loss: 0.7946 - val_acc: 0.6184\n",
      "Epoch 36/50\n",
      "0s - loss: 0.5422 - acc: 0.7238 - val_loss: 0.6745 - val_acc: 0.6507\n",
      "Epoch 37/50\n",
      "0s - loss: 0.5350 - acc: 0.7307 - val_loss: 0.6818 - val_acc: 0.6349\n",
      "Epoch 38/50\n",
      "0s - loss: 0.5370 - acc: 0.7297 - val_loss: 0.7192 - val_acc: 0.6397\n",
      "Epoch 39/50\n",
      "0s - loss: 0.5334 - acc: 0.7335 - val_loss: 0.7067 - val_acc: 0.6318\n",
      "Epoch 40/50\n",
      "0s - loss: 0.5322 - acc: 0.7343 - val_loss: 0.7018 - val_acc: 0.6263\n",
      "Epoch 41/50\n",
      "0s - loss: 0.5231 - acc: 0.7423 - val_loss: 0.7085 - val_acc: 0.6428\n",
      "Epoch 42/50\n",
      "0s - loss: 0.5267 - acc: 0.7351 - val_loss: 0.6858 - val_acc: 0.6436\n",
      "Epoch 43/50\n",
      "0s - loss: 0.5187 - acc: 0.7459 - val_loss: 0.7008 - val_acc: 0.6349\n",
      "Epoch 44/50\n",
      "0s - loss: 0.5198 - acc: 0.7398 - val_loss: 0.7524 - val_acc: 0.6475\n",
      "Epoch 45/50\n",
      "0s - loss: 0.5146 - acc: 0.7459 - val_loss: 0.7099 - val_acc: 0.6507\n",
      "Epoch 46/50\n",
      "0s - loss: 0.5106 - acc: 0.7512 - val_loss: 0.7101 - val_acc: 0.6389\n",
      "Epoch 47/50\n",
      "0s - loss: 0.5161 - acc: 0.7433 - val_loss: 0.6972 - val_acc: 0.6475\n",
      "Epoch 48/50\n",
      "0s - loss: 0.5055 - acc: 0.7484 - val_loss: 0.7842 - val_acc: 0.6341\n",
      "Epoch 49/50\n",
      "0s - loss: 0.5027 - acc: 0.7549 - val_loss: 0.7193 - val_acc: 0.6491\n",
      "Epoch 50/50\n",
      "0s - loss: 0.5094 - acc: 0.7512 - val_loss: 0.7596 - val_acc: 0.6444\n"
     ]
    }
   ],
   "source": [
    "model_fit1 = model1.fit(X_train, \n",
    "          train_y, \n",
    "          batch_size=254,\n",
    "          epochs=50, \n",
    "          validation_split = .2,\n",
    "         verbose=2)"
   ]
  },
  {
   "cell_type": "code",
   "execution_count": 58,
   "metadata": {},
   "outputs": [
    {
     "name": "stdout",
     "output_type": "stream",
     "text": [
      "1504/1589 [===========================>..] - ETA: 0s"
     ]
    }
   ],
   "source": [
    "y_hat1 = model1.predict_classes(X_test)"
   ]
  },
  {
   "cell_type": "code",
   "execution_count": 59,
   "metadata": {},
   "outputs": [
    {
     "data": {
      "text/plain": [
       "array([0, 0, 0, ..., 0, 0, 0])"
      ]
     },
     "execution_count": 59,
     "metadata": {},
     "output_type": "execute_result"
    }
   ],
   "source": [
    "y_hat1"
   ]
  },
  {
   "cell_type": "code",
   "execution_count": 60,
   "metadata": {
    "collapsed": true
   },
   "outputs": [],
   "source": [
    "df_pred = pd.DataFrame(y_hat1, columns=['M_F_P'])\n",
    "df_test = pd.DataFrame(y_test, columns=['M_F_P'])"
   ]
  },
  {
   "cell_type": "code",
   "execution_count": 61,
   "metadata": {
    "collapsed": true
   },
   "outputs": [],
   "source": [
    "df_test[df_test['M_F_P'] == 'Female'] = 0 \n",
    "df_test[df_test['M_F_P'] == 'Male'] = 1"
   ]
  },
  {
   "cell_type": "code",
   "execution_count": 62,
   "metadata": {},
   "outputs": [
    {
     "data": {
      "text/html": [
       "<div>\n",
       "<table border=\"1\" class=\"dataframe\">\n",
       "  <thead>\n",
       "    <tr style=\"text-align: right;\">\n",
       "      <th>M_F_P</th>\n",
       "      <th>0</th>\n",
       "      <th>1</th>\n",
       "    </tr>\n",
       "    <tr>\n",
       "      <th>row_0</th>\n",
       "      <th></th>\n",
       "      <th></th>\n",
       "    </tr>\n",
       "  </thead>\n",
       "  <tbody>\n",
       "    <tr>\n",
       "      <th>0</th>\n",
       "      <td>955</td>\n",
       "      <td>467</td>\n",
       "    </tr>\n",
       "    <tr>\n",
       "      <th>1</th>\n",
       "      <td>49</td>\n",
       "      <td>118</td>\n",
       "    </tr>\n",
       "  </tbody>\n",
       "</table>\n",
       "</div>"
      ],
      "text/plain": [
       "M_F_P    0    1\n",
       "row_0          \n",
       "0      955  467\n",
       "1       49  118"
      ]
     },
     "execution_count": 62,
     "metadata": {},
     "output_type": "execute_result"
    }
   ],
   "source": [
    "pd.crosstab(y_hat1, df_test['M_F_P'])"
   ]
  },
  {
   "cell_type": "code",
   "execution_count": 63,
   "metadata": {},
   "outputs": [
    {
     "data": {
      "text/plain": [
       "516"
      ]
     },
     "execution_count": 63,
     "metadata": {},
     "output_type": "execute_result"
    }
   ],
   "source": [
    "test_wrong = [im for im in zip(X_test, y_hat1, df_test['M_F_P']) if im[1] != im[2]]\n",
    "len(test_wrong)"
   ]
  },
  {
   "cell_type": "code",
   "execution_count": 64,
   "metadata": {
    "collapsed": true
   },
   "outputs": [],
   "source": [
    "model1_acc = model_fit1.history['acc']"
   ]
  },
  {
   "cell_type": "markdown",
   "metadata": {
    "collapsed": true
   },
   "source": [
    "## MODEL 2"
   ]
  },
  {
   "cell_type": "code",
   "execution_count": 65,
   "metadata": {
    "collapsed": true
   },
   "outputs": [],
   "source": [
    "model2 = Sequential()"
   ]
  },
  {
   "cell_type": "code",
   "execution_count": 66,
   "metadata": {
    "collapsed": true
   },
   "outputs": [],
   "source": [
    "model2.add(Dense(254, activation='relu', input_shape=(15,)))\n",
    "#model2.add(Dense(1024, activation='relu'))\n",
    "model2.add(Dense(2, activation='softmax'))"
   ]
  },
  {
   "cell_type": "code",
   "execution_count": 67,
   "metadata": {},
   "outputs": [
    {
     "name": "stdout",
     "output_type": "stream",
     "text": [
      "_________________________________________________________________\n",
      "Layer (type)                 Output Shape              Param #   \n",
      "=================================================================\n",
      "dense_13 (Dense)             (None, 254)               4064      \n",
      "_________________________________________________________________\n",
      "dense_14 (Dense)             (None, 2)                 510       \n",
      "=================================================================\n",
      "Total params: 4,574\n",
      "Trainable params: 4,574\n",
      "Non-trainable params: 0\n",
      "_________________________________________________________________\n"
     ]
    }
   ],
   "source": [
    "model2.summary()"
   ]
  },
  {
   "cell_type": "code",
   "execution_count": 68,
   "metadata": {
    "collapsed": true
   },
   "outputs": [],
   "source": [
    "model2.compile(optimizer=RMSprop(),\n",
    "             loss='categorical_crossentropy',\n",
    "             metrics = ['accuracy'])"
   ]
  },
  {
   "cell_type": "code",
   "execution_count": 69,
   "metadata": {},
   "outputs": [
    {
     "name": "stdout",
     "output_type": "stream",
     "text": [
      "Train on 5084 samples, validate on 1271 samples\n",
      "Epoch 1/50\n",
      "0s - loss: 0.6641 - acc: 0.6310 - val_loss: 0.6714 - val_acc: 0.6082\n",
      "Epoch 2/50\n",
      "0s - loss: 0.6537 - acc: 0.6351 - val_loss: 0.6658 - val_acc: 0.6098\n",
      "Epoch 3/50\n",
      "0s - loss: 0.6504 - acc: 0.6395 - val_loss: 0.6642 - val_acc: 0.6184\n",
      "Epoch 4/50\n",
      "0s - loss: 0.6479 - acc: 0.6428 - val_loss: 0.6632 - val_acc: 0.6161\n",
      "Epoch 5/50\n",
      "0s - loss: 0.6458 - acc: 0.6458 - val_loss: 0.6649 - val_acc: 0.6216\n",
      "Epoch 6/50\n",
      "0s - loss: 0.6446 - acc: 0.6442 - val_loss: 0.6654 - val_acc: 0.6137\n",
      "Epoch 7/50\n",
      "0s - loss: 0.6419 - acc: 0.6475 - val_loss: 0.6630 - val_acc: 0.6121\n",
      "Epoch 8/50\n",
      "0s - loss: 0.6399 - acc: 0.6495 - val_loss: 0.6698 - val_acc: 0.6129\n",
      "Epoch 9/50\n",
      "0s - loss: 0.6387 - acc: 0.6463 - val_loss: 0.6620 - val_acc: 0.6255\n",
      "Epoch 10/50\n",
      "0s - loss: 0.6359 - acc: 0.6524 - val_loss: 0.6687 - val_acc: 0.6027\n",
      "Epoch 11/50\n",
      "0s - loss: 0.6373 - acc: 0.6509 - val_loss: 0.6618 - val_acc: 0.6255\n",
      "Epoch 12/50\n",
      "0s - loss: 0.6348 - acc: 0.6552 - val_loss: 0.6610 - val_acc: 0.6239\n",
      "Epoch 13/50\n",
      "0s - loss: 0.6333 - acc: 0.6574 - val_loss: 0.6586 - val_acc: 0.6286\n",
      "Epoch 14/50\n",
      "0s - loss: 0.6319 - acc: 0.6595 - val_loss: 0.6738 - val_acc: 0.6105\n",
      "Epoch 15/50\n",
      "0s - loss: 0.6311 - acc: 0.6544 - val_loss: 0.6610 - val_acc: 0.6145\n",
      "Epoch 16/50\n",
      "0s - loss: 0.6295 - acc: 0.6595 - val_loss: 0.6712 - val_acc: 0.6113\n",
      "Epoch 17/50\n",
      "0s - loss: 0.6283 - acc: 0.6576 - val_loss: 0.6593 - val_acc: 0.6231\n",
      "Epoch 18/50\n",
      "0s - loss: 0.6269 - acc: 0.6621 - val_loss: 0.6573 - val_acc: 0.6223\n",
      "Epoch 19/50\n",
      "0s - loss: 0.6256 - acc: 0.6619 - val_loss: 0.6581 - val_acc: 0.6231\n",
      "Epoch 20/50\n",
      "0s - loss: 0.6245 - acc: 0.6652 - val_loss: 0.6729 - val_acc: 0.6137\n",
      "Epoch 21/50\n",
      "0s - loss: 0.6241 - acc: 0.6650 - val_loss: 0.6588 - val_acc: 0.6294\n",
      "Epoch 22/50\n",
      "0s - loss: 0.6231 - acc: 0.6650 - val_loss: 0.6718 - val_acc: 0.6145\n",
      "Epoch 23/50\n",
      "0s - loss: 0.6223 - acc: 0.6688 - val_loss: 0.6690 - val_acc: 0.6129\n",
      "Epoch 24/50\n",
      "0s - loss: 0.6220 - acc: 0.6684 - val_loss: 0.6597 - val_acc: 0.6263\n",
      "Epoch 25/50\n",
      "0s - loss: 0.6197 - acc: 0.6662 - val_loss: 0.6715 - val_acc: 0.6176\n",
      "Epoch 26/50\n",
      "0s - loss: 0.6191 - acc: 0.6684 - val_loss: 0.6589 - val_acc: 0.6286\n",
      "Epoch 27/50\n",
      "0s - loss: 0.6176 - acc: 0.6717 - val_loss: 0.6614 - val_acc: 0.6192\n",
      "Epoch 28/50\n",
      "0s - loss: 0.6176 - acc: 0.6697 - val_loss: 0.6522 - val_acc: 0.6318\n",
      "Epoch 29/50\n",
      "0s - loss: 0.6156 - acc: 0.6717 - val_loss: 0.6581 - val_acc: 0.6294\n",
      "Epoch 30/50\n",
      "0s - loss: 0.6149 - acc: 0.6745 - val_loss: 0.6579 - val_acc: 0.6200\n",
      "Epoch 31/50\n",
      "0s - loss: 0.6149 - acc: 0.6739 - val_loss: 0.6528 - val_acc: 0.6271\n",
      "Epoch 32/50\n",
      "0s - loss: 0.6138 - acc: 0.6725 - val_loss: 0.6546 - val_acc: 0.6318\n",
      "Epoch 33/50\n",
      "0s - loss: 0.6128 - acc: 0.6756 - val_loss: 0.6525 - val_acc: 0.6341\n",
      "Epoch 34/50\n",
      "0s - loss: 0.6123 - acc: 0.6755 - val_loss: 0.6576 - val_acc: 0.6318\n",
      "Epoch 35/50\n",
      "0s - loss: 0.6115 - acc: 0.6756 - val_loss: 0.6629 - val_acc: 0.6310\n",
      "Epoch 36/50\n",
      "0s - loss: 0.6113 - acc: 0.6770 - val_loss: 0.6645 - val_acc: 0.6310\n",
      "Epoch 37/50\n",
      "0s - loss: 0.6112 - acc: 0.6727 - val_loss: 0.6514 - val_acc: 0.6318\n",
      "Epoch 38/50\n",
      "0s - loss: 0.6100 - acc: 0.6772 - val_loss: 0.6698 - val_acc: 0.6263\n",
      "Epoch 39/50\n",
      "0s - loss: 0.6096 - acc: 0.6745 - val_loss: 0.6559 - val_acc: 0.6357\n",
      "Epoch 40/50\n",
      "0s - loss: 0.6086 - acc: 0.6766 - val_loss: 0.6552 - val_acc: 0.6397\n",
      "Epoch 41/50\n",
      "0s - loss: 0.6073 - acc: 0.6794 - val_loss: 0.6753 - val_acc: 0.6200\n",
      "Epoch 42/50\n",
      "0s - loss: 0.6078 - acc: 0.6794 - val_loss: 0.6885 - val_acc: 0.6121\n",
      "Epoch 43/50\n",
      "0s - loss: 0.6094 - acc: 0.6766 - val_loss: 0.6506 - val_acc: 0.6365\n",
      "Epoch 44/50\n",
      "0s - loss: 0.6059 - acc: 0.6798 - val_loss: 0.6540 - val_acc: 0.6294\n",
      "Epoch 45/50\n",
      "0s - loss: 0.6064 - acc: 0.6821 - val_loss: 0.6499 - val_acc: 0.6389\n",
      "Epoch 46/50\n",
      "0s - loss: 0.6041 - acc: 0.6812 - val_loss: 0.6687 - val_acc: 0.6263\n",
      "Epoch 47/50\n",
      "0s - loss: 0.6047 - acc: 0.6784 - val_loss: 0.6524 - val_acc: 0.6200\n",
      "Epoch 48/50\n",
      "0s - loss: 0.6045 - acc: 0.6819 - val_loss: 0.6514 - val_acc: 0.6341\n",
      "Epoch 49/50\n",
      "0s - loss: 0.6038 - acc: 0.6845 - val_loss: 0.6498 - val_acc: 0.6286\n",
      "Epoch 50/50\n",
      "0s - loss: 0.6031 - acc: 0.6825 - val_loss: 0.6649 - val_acc: 0.6286\n"
     ]
    }
   ],
   "source": [
    "model_fit2 = model2.fit(X_train, \n",
    "          train_y, \n",
    "          batch_size=254,\n",
    "          epochs=50, \n",
    "          validation_split = .2,\n",
    "         verbose=2)"
   ]
  },
  {
   "cell_type": "code",
   "execution_count": 70,
   "metadata": {},
   "outputs": [
    {
     "name": "stdout",
     "output_type": "stream",
     "text": [
      "\r",
      "  32/1589 [..............................] - ETA: 2s"
     ]
    }
   ],
   "source": [
    "y_hat2 = model2.predict_classes(X_test)"
   ]
  },
  {
   "cell_type": "code",
   "execution_count": 71,
   "metadata": {},
   "outputs": [
    {
     "data": {
      "text/html": [
       "<div>\n",
       "<table border=\"1\" class=\"dataframe\">\n",
       "  <thead>\n",
       "    <tr style=\"text-align: right;\">\n",
       "      <th>M_F_P</th>\n",
       "      <th>0</th>\n",
       "      <th>1</th>\n",
       "    </tr>\n",
       "    <tr>\n",
       "      <th>row_0</th>\n",
       "      <th></th>\n",
       "      <th></th>\n",
       "    </tr>\n",
       "  </thead>\n",
       "  <tbody>\n",
       "    <tr>\n",
       "      <th>0</th>\n",
       "      <td>966</td>\n",
       "      <td>522</td>\n",
       "    </tr>\n",
       "    <tr>\n",
       "      <th>1</th>\n",
       "      <td>38</td>\n",
       "      <td>63</td>\n",
       "    </tr>\n",
       "  </tbody>\n",
       "</table>\n",
       "</div>"
      ],
      "text/plain": [
       "M_F_P    0    1\n",
       "row_0          \n",
       "0      966  522\n",
       "1       38   63"
      ]
     },
     "execution_count": 71,
     "metadata": {},
     "output_type": "execute_result"
    }
   ],
   "source": [
    "pd.crosstab(y_hat2, df_test['M_F_P'])"
   ]
  },
  {
   "cell_type": "code",
   "execution_count": 72,
   "metadata": {},
   "outputs": [
    {
     "data": {
      "text/plain": [
       "560"
      ]
     },
     "execution_count": 72,
     "metadata": {},
     "output_type": "execute_result"
    }
   ],
   "source": [
    "test_wrong = [im for im in zip(X_test, y_hat2, df_test['M_F_P']) if im[1] != im[2]]\n",
    "len(test_wrong)"
   ]
  },
  {
   "cell_type": "code",
   "execution_count": 73,
   "metadata": {
    "collapsed": true
   },
   "outputs": [],
   "source": [
    "model2_acc = model_fit2.history['acc']"
   ]
  },
  {
   "cell_type": "markdown",
   "metadata": {},
   "source": [
    "## MODEL 3"
   ]
  },
  {
   "cell_type": "code",
   "execution_count": 74,
   "metadata": {
    "collapsed": true
   },
   "outputs": [],
   "source": [
    "model3 = Sequential()"
   ]
  },
  {
   "cell_type": "code",
   "execution_count": 75,
   "metadata": {
    "collapsed": true
   },
   "outputs": [],
   "source": [
    "model3.add(Dense(1024, activation='relu', input_shape=(15,)))\n",
    "model3.add(Dense(524, activation='relu'))\n",
    "model3.add(Dense(1024, activation='relu'))\n",
    "model3.add(Dense(2, activation='softmax'))"
   ]
  },
  {
   "cell_type": "code",
   "execution_count": 76,
   "metadata": {},
   "outputs": [
    {
     "name": "stdout",
     "output_type": "stream",
     "text": [
      "_________________________________________________________________\n",
      "Layer (type)                 Output Shape              Param #   \n",
      "=================================================================\n",
      "dense_15 (Dense)             (None, 1024)              16384     \n",
      "_________________________________________________________________\n",
      "dense_16 (Dense)             (None, 524)               537100    \n",
      "_________________________________________________________________\n",
      "dense_17 (Dense)             (None, 1024)              537600    \n",
      "_________________________________________________________________\n",
      "dense_18 (Dense)             (None, 2)                 2050      \n",
      "=================================================================\n",
      "Total params: 1,093,134\n",
      "Trainable params: 1,093,134\n",
      "Non-trainable params: 0\n",
      "_________________________________________________________________\n"
     ]
    }
   ],
   "source": [
    "model3.summary()"
   ]
  },
  {
   "cell_type": "code",
   "execution_count": 77,
   "metadata": {
    "collapsed": true
   },
   "outputs": [],
   "source": [
    "model3.compile(optimizer=RMSprop(),\n",
    "             loss='categorical_crossentropy',\n",
    "             metrics = ['accuracy'])"
   ]
  },
  {
   "cell_type": "code",
   "execution_count": 78,
   "metadata": {},
   "outputs": [
    {
     "name": "stdout",
     "output_type": "stream",
     "text": [
      "Train on 5084 samples, validate on 1271 samples\n",
      "Epoch 1/50\n",
      "1s - loss: 0.6706 - acc: 0.6162 - val_loss: 0.6670 - val_acc: 0.6090\n",
      "Epoch 2/50\n",
      "1s - loss: 0.6470 - acc: 0.6477 - val_loss: 0.9806 - val_acc: 0.6090\n",
      "Epoch 3/50\n",
      "1s - loss: 0.6479 - acc: 0.6576 - val_loss: 0.8544 - val_acc: 0.6090\n",
      "Epoch 4/50\n",
      "1s - loss: 0.6425 - acc: 0.6495 - val_loss: 0.6650 - val_acc: 0.6184\n",
      "Epoch 5/50\n",
      "1s - loss: 0.6294 - acc: 0.6615 - val_loss: 0.8073 - val_acc: 0.6113\n",
      "Epoch 6/50\n",
      "1s - loss: 0.6234 - acc: 0.6741 - val_loss: 0.6763 - val_acc: 0.6176\n",
      "Epoch 7/50\n",
      "1s - loss: 0.6137 - acc: 0.6725 - val_loss: 0.8456 - val_acc: 0.6090\n",
      "Epoch 8/50\n",
      "1s - loss: 0.6102 - acc: 0.6819 - val_loss: 0.7168 - val_acc: 0.6161\n",
      "Epoch 9/50\n",
      "1s - loss: 0.5984 - acc: 0.6875 - val_loss: 0.6955 - val_acc: 0.6200\n",
      "Epoch 10/50\n",
      "1s - loss: 0.5988 - acc: 0.6906 - val_loss: 0.7931 - val_acc: 0.6121\n",
      "Epoch 11/50\n",
      "1s - loss: 0.5922 - acc: 0.6875 - val_loss: 0.6647 - val_acc: 0.6318\n",
      "Epoch 12/50\n",
      "1s - loss: 0.5846 - acc: 0.6996 - val_loss: 0.8384 - val_acc: 0.5208\n",
      "Epoch 13/50\n",
      "1s - loss: 0.5875 - acc: 0.6975 - val_loss: 0.7902 - val_acc: 0.6192\n",
      "Epoch 14/50\n",
      "1s - loss: 0.5810 - acc: 0.6998 - val_loss: 0.7126 - val_acc: 0.6302\n",
      "Epoch 15/50\n",
      "1s - loss: 0.5678 - acc: 0.7111 - val_loss: 0.8639 - val_acc: 0.5476\n",
      "Epoch 16/50\n",
      "1s - loss: 0.5685 - acc: 0.7052 - val_loss: 0.7169 - val_acc: 0.6066\n",
      "Epoch 17/50\n",
      "1s - loss: 0.5642 - acc: 0.7111 - val_loss: 0.7519 - val_acc: 0.6334\n",
      "Epoch 18/50\n",
      "1s - loss: 0.5557 - acc: 0.7191 - val_loss: 0.8023 - val_acc: 0.6216\n",
      "Epoch 19/50\n",
      "1s - loss: 0.5593 - acc: 0.7181 - val_loss: 0.8242 - val_acc: 0.6286\n",
      "Epoch 20/50\n",
      "1s - loss: 0.5491 - acc: 0.7256 - val_loss: 0.7319 - val_acc: 0.6271\n",
      "Epoch 21/50\n",
      "1s - loss: 0.5403 - acc: 0.7301 - val_loss: 0.8529 - val_acc: 0.5578\n",
      "Epoch 22/50\n",
      "1s - loss: 0.5388 - acc: 0.7244 - val_loss: 0.7937 - val_acc: 0.6145\n",
      "Epoch 23/50\n",
      "1s - loss: 0.5346 - acc: 0.7290 - val_loss: 0.7076 - val_acc: 0.6050\n",
      "Epoch 24/50\n",
      "1s - loss: 0.5270 - acc: 0.7325 - val_loss: 0.8195 - val_acc: 0.5877\n",
      "Epoch 25/50\n",
      "1s - loss: 0.5268 - acc: 0.7337 - val_loss: 0.7931 - val_acc: 0.6058\n",
      "Epoch 26/50\n",
      "1s - loss: 0.5186 - acc: 0.7419 - val_loss: 0.7485 - val_acc: 0.6491\n",
      "Epoch 27/50\n",
      "1s - loss: 0.5123 - acc: 0.7419 - val_loss: 0.6994 - val_acc: 0.6129\n",
      "Epoch 28/50\n",
      "1s - loss: 0.5097 - acc: 0.7474 - val_loss: 0.7131 - val_acc: 0.6436\n",
      "Epoch 29/50\n",
      "1s - loss: 0.4964 - acc: 0.7512 - val_loss: 0.7734 - val_acc: 0.6035\n",
      "Epoch 30/50\n",
      "1s - loss: 0.5022 - acc: 0.7510 - val_loss: 0.9552 - val_acc: 0.6239\n",
      "Epoch 31/50\n",
      "1s - loss: 0.4956 - acc: 0.7606 - val_loss: 0.8210 - val_acc: 0.6176\n",
      "Epoch 32/50\n",
      "1s - loss: 0.4865 - acc: 0.7614 - val_loss: 0.8398 - val_acc: 0.6467\n",
      "Epoch 33/50\n",
      "1s - loss: 0.4867 - acc: 0.7547 - val_loss: 0.8262 - val_acc: 0.6404\n",
      "Epoch 34/50\n",
      "1s - loss: 0.4773 - acc: 0.7648 - val_loss: 0.8777 - val_acc: 0.6255\n",
      "Epoch 35/50\n",
      "1s - loss: 0.4835 - acc: 0.7638 - val_loss: 0.7898 - val_acc: 0.6223\n",
      "Epoch 36/50\n",
      "1s - loss: 0.4592 - acc: 0.7734 - val_loss: 0.8336 - val_acc: 0.6302\n",
      "Epoch 37/50\n",
      "1s - loss: 0.4690 - acc: 0.7722 - val_loss: 1.1147 - val_acc: 0.6302\n",
      "Epoch 38/50\n",
      "1s - loss: 0.4700 - acc: 0.7742 - val_loss: 0.8803 - val_acc: 0.5720\n",
      "Epoch 39/50\n",
      "1s - loss: 0.4508 - acc: 0.7764 - val_loss: 0.9255 - val_acc: 0.6538\n",
      "Epoch 40/50\n",
      "1s - loss: 0.4468 - acc: 0.7775 - val_loss: 1.1263 - val_acc: 0.6318\n",
      "Epoch 41/50\n",
      "1s - loss: 0.4496 - acc: 0.7856 - val_loss: 1.0128 - val_acc: 0.6562\n",
      "Epoch 42/50\n",
      "1s - loss: 0.4477 - acc: 0.7825 - val_loss: 0.9726 - val_acc: 0.6349\n",
      "Epoch 43/50\n",
      "1s - loss: 0.4373 - acc: 0.7891 - val_loss: 0.9643 - val_acc: 0.6247\n",
      "Epoch 44/50\n",
      "1s - loss: 0.4419 - acc: 0.7887 - val_loss: 0.9613 - val_acc: 0.6459\n",
      "Epoch 45/50\n",
      "1s - loss: 0.4367 - acc: 0.7870 - val_loss: 0.7561 - val_acc: 0.6617\n",
      "Epoch 46/50\n",
      "1s - loss: 0.4120 - acc: 0.8047 - val_loss: 0.9226 - val_acc: 0.6412\n",
      "Epoch 47/50\n",
      "1s - loss: 0.4145 - acc: 0.7996 - val_loss: 0.8618 - val_acc: 0.6397\n",
      "Epoch 48/50\n",
      "1s - loss: 0.4144 - acc: 0.7970 - val_loss: 0.9889 - val_acc: 0.6475\n",
      "Epoch 49/50\n",
      "1s - loss: 0.4038 - acc: 0.8072 - val_loss: 1.0990 - val_acc: 0.6507\n",
      "Epoch 50/50\n",
      "1s - loss: 0.4090 - acc: 0.8066 - val_loss: 1.4242 - val_acc: 0.6247\n"
     ]
    }
   ],
   "source": [
    "model_fit3 = model3.fit(X_train, \n",
    "          train_y, \n",
    "          batch_size=254,\n",
    "          epochs=50, \n",
    "          validation_split = .2,\n",
    "         verbose=2)"
   ]
  },
  {
   "cell_type": "code",
   "execution_count": 79,
   "metadata": {},
   "outputs": [
    {
     "name": "stdout",
     "output_type": "stream",
     "text": [
      "1440/1589 [==========================>...] - ETA: 0s"
     ]
    }
   ],
   "source": [
    "y_hat3 = model3.predict_classes(X_test)"
   ]
  },
  {
   "cell_type": "code",
   "execution_count": 80,
   "metadata": {},
   "outputs": [
    {
     "data": {
      "text/html": [
       "<div>\n",
       "<table border=\"1\" class=\"dataframe\">\n",
       "  <thead>\n",
       "    <tr style=\"text-align: right;\">\n",
       "      <th>M_F_P</th>\n",
       "      <th>0</th>\n",
       "      <th>1</th>\n",
       "    </tr>\n",
       "    <tr>\n",
       "      <th>row_0</th>\n",
       "      <th></th>\n",
       "      <th></th>\n",
       "    </tr>\n",
       "  </thead>\n",
       "  <tbody>\n",
       "    <tr>\n",
       "      <th>0</th>\n",
       "      <td>977</td>\n",
       "      <td>505</td>\n",
       "    </tr>\n",
       "    <tr>\n",
       "      <th>1</th>\n",
       "      <td>27</td>\n",
       "      <td>80</td>\n",
       "    </tr>\n",
       "  </tbody>\n",
       "</table>\n",
       "</div>"
      ],
      "text/plain": [
       "M_F_P    0    1\n",
       "row_0          \n",
       "0      977  505\n",
       "1       27   80"
      ]
     },
     "execution_count": 80,
     "metadata": {},
     "output_type": "execute_result"
    }
   ],
   "source": [
    "pd.crosstab(y_hat3, df_test['M_F_P'])"
   ]
  },
  {
   "cell_type": "code",
   "execution_count": 81,
   "metadata": {},
   "outputs": [
    {
     "data": {
      "text/plain": [
       "532"
      ]
     },
     "execution_count": 81,
     "metadata": {},
     "output_type": "execute_result"
    }
   ],
   "source": [
    "test_wrong = [im for im in zip(X_test, y_hat3, df_test['M_F_P']) if im[1] != im[2]]\n",
    "len(test_wrong)"
   ]
  },
  {
   "cell_type": "code",
   "execution_count": 82,
   "metadata": {
    "collapsed": true
   },
   "outputs": [],
   "source": [
    "model3_acc = model_fit3.history['acc']"
   ]
  },
  {
   "cell_type": "markdown",
   "metadata": {},
   "source": [
    "## MODEL 4"
   ]
  },
  {
   "cell_type": "code",
   "execution_count": 83,
   "metadata": {
    "collapsed": true
   },
   "outputs": [],
   "source": [
    "model4 = Sequential()\n",
    "model4.add(Dense(300, activation='relu', input_shape=(15,)))\n",
    "model4.add(Dense(524, activation='relu'))\n",
    "model4.add(Dense(2, activation='softmax'))"
   ]
  },
  {
   "cell_type": "code",
   "execution_count": 84,
   "metadata": {},
   "outputs": [
    {
     "name": "stdout",
     "output_type": "stream",
     "text": [
      "_________________________________________________________________\n",
      "Layer (type)                 Output Shape              Param #   \n",
      "=================================================================\n",
      "dense_19 (Dense)             (None, 300)               4800      \n",
      "_________________________________________________________________\n",
      "dense_20 (Dense)             (None, 524)               157724    \n",
      "_________________________________________________________________\n",
      "dense_21 (Dense)             (None, 2)                 1050      \n",
      "=================================================================\n",
      "Total params: 163,574\n",
      "Trainable params: 163,574\n",
      "Non-trainable params: 0\n",
      "_________________________________________________________________\n"
     ]
    }
   ],
   "source": [
    "model4.summary()"
   ]
  },
  {
   "cell_type": "code",
   "execution_count": 85,
   "metadata": {},
   "outputs": [
    {
     "name": "stdout",
     "output_type": "stream",
     "text": [
      "Train on 5084 samples, validate on 1271 samples\n",
      "Epoch 1/50\n",
      "0s - loss: 0.6577 - acc: 0.6214 - val_loss: 0.6728 - val_acc: 0.5893\n",
      "Epoch 2/50\n",
      "0s - loss: 0.6462 - acc: 0.6459 - val_loss: 0.6853 - val_acc: 0.6137\n",
      "Epoch 3/50\n",
      "0s - loss: 0.6407 - acc: 0.6515 - val_loss: 0.6620 - val_acc: 0.6192\n",
      "Epoch 4/50\n",
      "0s - loss: 0.6339 - acc: 0.6587 - val_loss: 0.7325 - val_acc: 0.6098\n",
      "Epoch 5/50\n",
      "0s - loss: 0.6311 - acc: 0.6617 - val_loss: 0.7322 - val_acc: 0.6113\n",
      "Epoch 6/50\n",
      "0s - loss: 0.6289 - acc: 0.6603 - val_loss: 0.6751 - val_acc: 0.5759\n",
      "Epoch 7/50\n",
      "0s - loss: 0.6246 - acc: 0.6676 - val_loss: 0.6582 - val_acc: 0.6318\n",
      "Epoch 8/50\n",
      "0s - loss: 0.6194 - acc: 0.6741 - val_loss: 0.7548 - val_acc: 0.6129\n",
      "Epoch 9/50\n",
      "0s - loss: 0.6210 - acc: 0.6711 - val_loss: 0.6663 - val_acc: 0.6145\n",
      "Epoch 10/50\n",
      "0s - loss: 0.6137 - acc: 0.6725 - val_loss: 0.6668 - val_acc: 0.6239\n",
      "Epoch 11/50\n",
      "0s - loss: 0.6103 - acc: 0.6764 - val_loss: 0.6803 - val_acc: 0.6286\n",
      "Epoch 12/50\n",
      "0s - loss: 0.6062 - acc: 0.6817 - val_loss: 0.6685 - val_acc: 0.6357\n",
      "Epoch 13/50\n",
      "0s - loss: 0.6021 - acc: 0.6819 - val_loss: 0.7376 - val_acc: 0.5358\n",
      "Epoch 14/50\n",
      "0s - loss: 0.6052 - acc: 0.6829 - val_loss: 0.7910 - val_acc: 0.6090\n",
      "Epoch 15/50\n",
      "0s - loss: 0.6040 - acc: 0.6853 - val_loss: 0.6589 - val_acc: 0.6389\n",
      "Epoch 16/50\n",
      "0s - loss: 0.5988 - acc: 0.6906 - val_loss: 0.6764 - val_acc: 0.6003\n",
      "Epoch 17/50\n",
      "0s - loss: 0.5964 - acc: 0.6859 - val_loss: 0.6727 - val_acc: 0.6279\n",
      "Epoch 18/50\n",
      "0s - loss: 0.5928 - acc: 0.6894 - val_loss: 0.8095 - val_acc: 0.6082\n",
      "Epoch 19/50\n",
      "0s - loss: 0.5971 - acc: 0.6930 - val_loss: 0.6751 - val_acc: 0.6271\n",
      "Epoch 20/50\n",
      "0s - loss: 0.5848 - acc: 0.6939 - val_loss: 0.7310 - val_acc: 0.6310\n",
      "Epoch 21/50\n",
      "0s - loss: 0.5891 - acc: 0.6935 - val_loss: 0.6853 - val_acc: 0.5822\n",
      "Epoch 22/50\n",
      "0s - loss: 0.5850 - acc: 0.7018 - val_loss: 0.6519 - val_acc: 0.6373\n",
      "Epoch 23/50\n",
      "0s - loss: 0.5841 - acc: 0.6965 - val_loss: 0.7715 - val_acc: 0.6184\n",
      "Epoch 24/50\n",
      "0s - loss: 0.5844 - acc: 0.6963 - val_loss: 0.7825 - val_acc: 0.6137\n",
      "Epoch 25/50\n",
      "0s - loss: 0.5848 - acc: 0.6969 - val_loss: 0.7031 - val_acc: 0.6231\n",
      "Epoch 26/50\n",
      "0s - loss: 0.5822 - acc: 0.6996 - val_loss: 0.7114 - val_acc: 0.6263\n",
      "Epoch 27/50\n",
      "0s - loss: 0.5767 - acc: 0.7036 - val_loss: 0.8247 - val_acc: 0.6145\n",
      "Epoch 28/50\n",
      "0s - loss: 0.5820 - acc: 0.7052 - val_loss: 0.7340 - val_acc: 0.6208\n",
      "Epoch 29/50\n",
      "0s - loss: 0.5760 - acc: 0.7075 - val_loss: 0.6605 - val_acc: 0.6231\n",
      "Epoch 30/50\n",
      "0s - loss: 0.5723 - acc: 0.7052 - val_loss: 0.7978 - val_acc: 0.6129\n",
      "Epoch 31/50\n",
      "0s - loss: 0.5742 - acc: 0.7063 - val_loss: 0.6559 - val_acc: 0.6436\n",
      "Epoch 32/50\n",
      "0s - loss: 0.5660 - acc: 0.7083 - val_loss: 0.7289 - val_acc: 0.5814\n",
      "Epoch 33/50\n",
      "0s - loss: 0.5699 - acc: 0.7052 - val_loss: 0.7691 - val_acc: 0.5563\n",
      "Epoch 34/50\n",
      "0s - loss: 0.5711 - acc: 0.7054 - val_loss: 0.7208 - val_acc: 0.5783\n",
      "Epoch 35/50\n",
      "0s - loss: 0.5646 - acc: 0.7083 - val_loss: 0.6827 - val_acc: 0.6326\n",
      "Epoch 36/50\n",
      "0s - loss: 0.5620 - acc: 0.7138 - val_loss: 0.8516 - val_acc: 0.6090\n",
      "Epoch 37/50\n",
      "0s - loss: 0.5684 - acc: 0.7105 - val_loss: 0.7030 - val_acc: 0.6035\n",
      "Epoch 38/50\n",
      "0s - loss: 0.5583 - acc: 0.7130 - val_loss: 0.6725 - val_acc: 0.6310\n",
      "Epoch 39/50\n",
      "0s - loss: 0.5583 - acc: 0.7156 - val_loss: 0.6913 - val_acc: 0.6318\n",
      "Epoch 40/50\n",
      "0s - loss: 0.5592 - acc: 0.7173 - val_loss: 0.6914 - val_acc: 0.6428\n",
      "Epoch 41/50\n",
      "0s - loss: 0.5499 - acc: 0.7205 - val_loss: 0.7461 - val_acc: 0.6058\n",
      "Epoch 42/50\n",
      "0s - loss: 0.5518 - acc: 0.7203 - val_loss: 0.6857 - val_acc: 0.6341\n",
      "Epoch 43/50\n",
      "0s - loss: 0.5488 - acc: 0.7280 - val_loss: 0.6952 - val_acc: 0.6310\n",
      "Epoch 44/50\n",
      "0s - loss: 0.5534 - acc: 0.7201 - val_loss: 0.6821 - val_acc: 0.6459\n",
      "Epoch 45/50\n",
      "0s - loss: 0.5457 - acc: 0.7266 - val_loss: 0.6794 - val_acc: 0.6381\n",
      "Epoch 46/50\n",
      "0s - loss: 0.5445 - acc: 0.7231 - val_loss: 0.6659 - val_acc: 0.6459\n",
      "Epoch 47/50\n",
      "0s - loss: 0.5421 - acc: 0.7232 - val_loss: 0.7712 - val_acc: 0.6176\n",
      "Epoch 48/50\n",
      "0s - loss: 0.5371 - acc: 0.7313 - val_loss: 0.7298 - val_acc: 0.6216\n",
      "Epoch 49/50\n",
      "0s - loss: 0.5408 - acc: 0.7315 - val_loss: 0.6853 - val_acc: 0.6357\n",
      "Epoch 50/50\n",
      "0s - loss: 0.5391 - acc: 0.7258 - val_loss: 0.7012 - val_acc: 0.6428\n"
     ]
    }
   ],
   "source": [
    "model4.compile(optimizer=RMSprop(),\n",
    "             loss='categorical_crossentropy',\n",
    "             metrics = ['accuracy'])\n",
    "\n",
    "model_fit4 = model4.fit(X_train, \n",
    "          train_y, \n",
    "          batch_size=254,\n",
    "          epochs=50, \n",
    "          validation_split = .2,\n",
    "         verbose=2)"
   ]
  },
  {
   "cell_type": "code",
   "execution_count": 86,
   "metadata": {},
   "outputs": [
    {
     "name": "stdout",
     "output_type": "stream",
     "text": [
      " 800/1589 [==============>...............] - ETA: 0s"
     ]
    }
   ],
   "source": [
    "y_hat4 = model4.predict_classes(X_test)"
   ]
  },
  {
   "cell_type": "code",
   "execution_count": 87,
   "metadata": {},
   "outputs": [
    {
     "data": {
      "text/html": [
       "<div>\n",
       "<table border=\"1\" class=\"dataframe\">\n",
       "  <thead>\n",
       "    <tr style=\"text-align: right;\">\n",
       "      <th>M_F_P</th>\n",
       "      <th>0</th>\n",
       "      <th>1</th>\n",
       "    </tr>\n",
       "    <tr>\n",
       "      <th>row_0</th>\n",
       "      <th></th>\n",
       "      <th></th>\n",
       "    </tr>\n",
       "  </thead>\n",
       "  <tbody>\n",
       "    <tr>\n",
       "      <th>0</th>\n",
       "      <td>893</td>\n",
       "      <td>415</td>\n",
       "    </tr>\n",
       "    <tr>\n",
       "      <th>1</th>\n",
       "      <td>111</td>\n",
       "      <td>170</td>\n",
       "    </tr>\n",
       "  </tbody>\n",
       "</table>\n",
       "</div>"
      ],
      "text/plain": [
       "M_F_P    0    1\n",
       "row_0          \n",
       "0      893  415\n",
       "1      111  170"
      ]
     },
     "execution_count": 87,
     "metadata": {},
     "output_type": "execute_result"
    }
   ],
   "source": [
    "pd.crosstab(y_hat4, df_test['M_F_P'])"
   ]
  },
  {
   "cell_type": "code",
   "execution_count": 88,
   "metadata": {},
   "outputs": [
    {
     "data": {
      "text/plain": [
       "526"
      ]
     },
     "execution_count": 88,
     "metadata": {},
     "output_type": "execute_result"
    }
   ],
   "source": [
    "test_wrong = [im for im in zip(X_test, y_hat4, df_test['M_F_P']) if im[1] != im[2]]\n",
    "len(test_wrong)"
   ]
  },
  {
   "cell_type": "code",
   "execution_count": 89,
   "metadata": {
    "collapsed": true
   },
   "outputs": [],
   "source": [
    "model4_acc = model_fit4.history['acc']"
   ]
  },
  {
   "cell_type": "markdown",
   "metadata": {},
   "source": [
    "## MODEL 5"
   ]
  },
  {
   "cell_type": "code",
   "execution_count": 99,
   "metadata": {
    "collapsed": true
   },
   "outputs": [],
   "source": [
    "model5 = Sequential()\n",
    "model5.add(Dense(400, activation='relu', input_shape=(15,)))\n",
    "model5.add(Dropout(0.2))\n",
    "model5.add(Dense(600, activation='relu'))\n",
    "model5.add(Dropout(0.2))\n",
    "model5.add(Dense(2, activation='softmax'))"
   ]
  },
  {
   "cell_type": "code",
   "execution_count": 100,
   "metadata": {},
   "outputs": [
    {
     "name": "stdout",
     "output_type": "stream",
     "text": [
      "_________________________________________________________________\n",
      "Layer (type)                 Output Shape              Param #   \n",
      "=================================================================\n",
      "dense_25 (Dense)             (None, 400)               6400      \n",
      "_________________________________________________________________\n",
      "dropout_3 (Dropout)          (None, 400)               0         \n",
      "_________________________________________________________________\n",
      "dense_26 (Dense)             (None, 600)               240600    \n",
      "_________________________________________________________________\n",
      "dropout_4 (Dropout)          (None, 600)               0         \n",
      "_________________________________________________________________\n",
      "dense_27 (Dense)             (None, 2)                 1202      \n",
      "=================================================================\n",
      "Total params: 248,202\n",
      "Trainable params: 248,202\n",
      "Non-trainable params: 0\n",
      "_________________________________________________________________\n"
     ]
    }
   ],
   "source": [
    "model5.summary()"
   ]
  },
  {
   "cell_type": "code",
   "execution_count": 101,
   "metadata": {},
   "outputs": [
    {
     "name": "stdout",
     "output_type": "stream",
     "text": [
      "Train on 3813 samples, validate on 2542 samples\n",
      "Epoch 1/50\n",
      "0s - loss: 0.6668 - acc: 0.6294 - val_loss: 0.6584 - val_acc: 0.6294\n",
      "Epoch 2/50\n",
      "0s - loss: 0.6492 - acc: 0.6391 - val_loss: 0.6588 - val_acc: 0.6338\n",
      "Epoch 3/50\n",
      "0s - loss: 0.6476 - acc: 0.6470 - val_loss: 0.6543 - val_acc: 0.6353\n",
      "Epoch 4/50\n",
      "0s - loss: 0.6426 - acc: 0.6467 - val_loss: 0.6620 - val_acc: 0.6023\n",
      "Epoch 5/50\n",
      "0s - loss: 0.6394 - acc: 0.6486 - val_loss: 0.7062 - val_acc: 0.5208\n",
      "Epoch 6/50\n",
      "0s - loss: 0.6392 - acc: 0.6433 - val_loss: 0.6587 - val_acc: 0.6404\n",
      "Epoch 7/50\n",
      "0s - loss: 0.6326 - acc: 0.6549 - val_loss: 0.6662 - val_acc: 0.6078\n",
      "Epoch 8/50\n",
      "0s - loss: 0.6325 - acc: 0.6551 - val_loss: 0.6720 - val_acc: 0.6330\n",
      "Epoch 9/50\n",
      "0s - loss: 0.6290 - acc: 0.6622 - val_loss: 0.6806 - val_acc: 0.6310\n",
      "Epoch 10/50\n",
      "0s - loss: 0.6275 - acc: 0.6651 - val_loss: 0.6501 - val_acc: 0.6511\n",
      "Epoch 11/50\n",
      "0s - loss: 0.6224 - acc: 0.6709 - val_loss: 0.7202 - val_acc: 0.6282\n",
      "Epoch 12/50\n",
      "0s - loss: 0.6232 - acc: 0.6675 - val_loss: 0.6626 - val_acc: 0.6400\n",
      "Epoch 13/50\n",
      "0s - loss: 0.6179 - acc: 0.6714 - val_loss: 0.6438 - val_acc: 0.6345\n",
      "Epoch 14/50\n",
      "0s - loss: 0.6135 - acc: 0.6777 - val_loss: 0.6449 - val_acc: 0.6558\n",
      "Epoch 15/50\n",
      "0s - loss: 0.6127 - acc: 0.6743 - val_loss: 0.6506 - val_acc: 0.6267\n",
      "Epoch 16/50\n",
      "0s - loss: 0.6121 - acc: 0.6751 - val_loss: 0.6390 - val_acc: 0.6487\n",
      "Epoch 17/50\n",
      "0s - loss: 0.6092 - acc: 0.6785 - val_loss: 0.6410 - val_acc: 0.6597\n",
      "Epoch 18/50\n",
      "0s - loss: 0.6065 - acc: 0.6795 - val_loss: 0.6432 - val_acc: 0.6448\n",
      "Epoch 19/50\n",
      "0s - loss: 0.6019 - acc: 0.6866 - val_loss: 0.6528 - val_acc: 0.6463\n",
      "Epoch 20/50\n",
      "0s - loss: 0.6039 - acc: 0.6853 - val_loss: 0.6398 - val_acc: 0.6491\n",
      "Epoch 21/50\n",
      "0s - loss: 0.5988 - acc: 0.6837 - val_loss: 0.6590 - val_acc: 0.6436\n",
      "Epoch 22/50\n",
      "0s - loss: 0.6026 - acc: 0.6787 - val_loss: 0.6601 - val_acc: 0.6577\n",
      "Epoch 23/50\n",
      "0s - loss: 0.6003 - acc: 0.6866 - val_loss: 0.6566 - val_acc: 0.6589\n",
      "Epoch 24/50\n",
      "0s - loss: 0.6004 - acc: 0.6871 - val_loss: 0.6516 - val_acc: 0.6463\n",
      "Epoch 25/50\n",
      "0s - loss: 0.5941 - acc: 0.6840 - val_loss: 0.6387 - val_acc: 0.6566\n",
      "Epoch 26/50\n",
      "0s - loss: 0.5953 - acc: 0.6945 - val_loss: 0.7465 - val_acc: 0.6318\n",
      "Epoch 27/50\n",
      "0s - loss: 0.5950 - acc: 0.6934 - val_loss: 0.7450 - val_acc: 0.5515\n",
      "Epoch 28/50\n",
      "0s - loss: 0.5979 - acc: 0.6850 - val_loss: 0.6476 - val_acc: 0.6546\n",
      "Epoch 29/50\n",
      "0s - loss: 0.5865 - acc: 0.6984 - val_loss: 0.7114 - val_acc: 0.6400\n",
      "Epoch 30/50\n",
      "0s - loss: 0.5883 - acc: 0.7044 - val_loss: 0.6381 - val_acc: 0.6558\n",
      "Epoch 31/50\n",
      "0s - loss: 0.5824 - acc: 0.6958 - val_loss: 0.7053 - val_acc: 0.6463\n",
      "Epoch 32/50\n",
      "0s - loss: 0.5910 - acc: 0.6955 - val_loss: 0.6526 - val_acc: 0.6361\n",
      "Epoch 33/50\n",
      "0s - loss: 0.5815 - acc: 0.7013 - val_loss: 0.6502 - val_acc: 0.6420\n",
      "Epoch 34/50\n",
      "0s - loss: 0.5796 - acc: 0.7071 - val_loss: 0.6496 - val_acc: 0.6515\n",
      "Epoch 35/50\n",
      "0s - loss: 0.5834 - acc: 0.6966 - val_loss: 0.6454 - val_acc: 0.6416\n",
      "Epoch 36/50\n",
      "0s - loss: 0.5812 - acc: 0.7015 - val_loss: 0.6819 - val_acc: 0.6109\n",
      "Epoch 37/50\n",
      "0s - loss: 0.5815 - acc: 0.6987 - val_loss: 0.6988 - val_acc: 0.5885\n",
      "Epoch 38/50\n",
      "0s - loss: 0.5817 - acc: 0.6934 - val_loss: 0.7143 - val_acc: 0.5960\n",
      "Epoch 39/50\n",
      "0s - loss: 0.5806 - acc: 0.7002 - val_loss: 0.6893 - val_acc: 0.6495\n",
      "Epoch 40/50\n",
      "0s - loss: 0.5799 - acc: 0.7015 - val_loss: 0.7010 - val_acc: 0.6499\n",
      "Epoch 41/50\n",
      "0s - loss: 0.5740 - acc: 0.7034 - val_loss: 0.6501 - val_acc: 0.6448\n",
      "Epoch 42/50\n",
      "0s - loss: 0.5681 - acc: 0.7094 - val_loss: 0.7864 - val_acc: 0.6349\n",
      "Epoch 43/50\n",
      "0s - loss: 0.5723 - acc: 0.7086 - val_loss: 0.7145 - val_acc: 0.6491\n",
      "Epoch 44/50\n",
      "0s - loss: 0.5700 - acc: 0.7126 - val_loss: 0.6565 - val_acc: 0.6518\n",
      "Epoch 45/50\n",
      "0s - loss: 0.5689 - acc: 0.7063 - val_loss: 0.6919 - val_acc: 0.6562\n",
      "Epoch 46/50\n",
      "0s - loss: 0.5647 - acc: 0.7097 - val_loss: 0.6468 - val_acc: 0.6526\n",
      "Epoch 47/50\n",
      "0s - loss: 0.5675 - acc: 0.7115 - val_loss: 0.6669 - val_acc: 0.6593\n",
      "Epoch 48/50\n",
      "0s - loss: 0.5627 - acc: 0.7133 - val_loss: 0.6392 - val_acc: 0.6574\n",
      "Epoch 49/50\n",
      "0s - loss: 0.5573 - acc: 0.7157 - val_loss: 0.6949 - val_acc: 0.6503\n",
      "Epoch 50/50\n",
      "0s - loss: 0.5565 - acc: 0.7152 - val_loss: 0.7330 - val_acc: 0.5877\n"
     ]
    }
   ],
   "source": [
    "model5.compile(optimizer=RMSprop(),\n",
    "             loss='categorical_crossentropy',\n",
    "             metrics = ['accuracy'])\n",
    "\n",
    "model_fit5 = model5.fit(X_train, \n",
    "          train_y, \n",
    "          batch_size=254,\n",
    "          epochs=50, \n",
    "          validation_split = .40,\n",
    "         verbose=2)"
   ]
  },
  {
   "cell_type": "code",
   "execution_count": 102,
   "metadata": {},
   "outputs": [
    {
     "name": "stdout",
     "output_type": "stream",
     "text": [
      " 928/1589 [================>.............] - ETA: 0s"
     ]
    }
   ],
   "source": [
    "y_hat5 = model5.predict_classes(X_test)"
   ]
  },
  {
   "cell_type": "code",
   "execution_count": 103,
   "metadata": {},
   "outputs": [
    {
     "data": {
      "text/plain": [
       "605"
      ]
     },
     "execution_count": 103,
     "metadata": {},
     "output_type": "execute_result"
    }
   ],
   "source": [
    "test_wrong = [im for im in zip(X_test, y_hat5, df_test['M_F_P']) if im[1] != im[2]]\n",
    "len(test_wrong)"
   ]
  },
  {
   "cell_type": "code",
   "execution_count": 104,
   "metadata": {},
   "outputs": [
    {
     "data": {
      "text/html": [
       "<div>\n",
       "<table border=\"1\" class=\"dataframe\">\n",
       "  <thead>\n",
       "    <tr style=\"text-align: right;\">\n",
       "      <th>M_F_P</th>\n",
       "      <th>0</th>\n",
       "      <th>1</th>\n",
       "    </tr>\n",
       "    <tr>\n",
       "      <th>row_0</th>\n",
       "      <th></th>\n",
       "      <th></th>\n",
       "    </tr>\n",
       "  </thead>\n",
       "  <tbody>\n",
       "    <tr>\n",
       "      <th>0</th>\n",
       "      <td>636</td>\n",
       "      <td>237</td>\n",
       "    </tr>\n",
       "    <tr>\n",
       "      <th>1</th>\n",
       "      <td>368</td>\n",
       "      <td>348</td>\n",
       "    </tr>\n",
       "  </tbody>\n",
       "</table>\n",
       "</div>"
      ],
      "text/plain": [
       "M_F_P    0    1\n",
       "row_0          \n",
       "0      636  237\n",
       "1      368  348"
      ]
     },
     "execution_count": 104,
     "metadata": {},
     "output_type": "execute_result"
    }
   ],
   "source": [
    "pd.crosstab(y_hat5, df_test['M_F_P'])"
   ]
  },
  {
   "cell_type": "code",
   "execution_count": 105,
   "metadata": {
    "collapsed": true
   },
   "outputs": [],
   "source": [
    "model5_acc = model_fit5.history['acc']"
   ]
  },
  {
   "cell_type": "code",
   "execution_count": 106,
   "metadata": {},
   "outputs": [
    {
     "data": {
      "image/png": "[encoded data removed]",
      "text/plain": [
       "<matplotlib.figure.Figure at 0x7f3cbb8f76a0>"
      ]
     },
     "metadata": {},
     "output_type": "display_data"
    }
   ],
   "source": [
    "#plt.fig\n",
    "plt.plot(range(1,51), model1_acc, color = 'green', )\n",
    "plt.plot(range(1,51), model2_acc, color = 'red', )\n",
    "plt.plot(range(1,51), model3_acc, color = 'black', )\n",
    "plt.plot(range(1,51), model4_acc, color = 'yellow', )\n",
    "plt.plot(range(1,51), model5_acc, color = 'blue', )\n",
    "plt.show()"
   ]
  },
  {
   "cell_type": "markdown",
   "metadata": {
    "collapsed": true
   },
   "source": [
    "## MODEL 6\n",
    "\n",
    "    With EarlyStop function.\n",
    "    -- Stop training when a monitored quantity has stopped improving."
   ]
  },
  {
   "cell_type": "code",
   "execution_count": 164,
   "metadata": {
    "collapsed": true
   },
   "outputs": [],
   "source": [
    "model6 = Sequential()"
   ]
  },
  {
   "cell_type": "code",
   "execution_count": 165,
   "metadata": {},
   "outputs": [],
   "source": [
    "model6.add(Dense(512, activation='relu', input_shape=(15,)))\n",
    "model6.add(Dense(248, activation='relu'))\n",
    "model6.add(Dense(1024, activation='relu'))\n",
    "model6.add(Dense(512, activation='relu'))\n",
    "model6.add(Dense(2, activation='softmax'))"
   ]
  },
  {
   "cell_type": "code",
   "execution_count": 171,
   "metadata": {},
   "outputs": [
    {
     "name": "stdout",
     "output_type": "stream",
     "text": [
      "Train on 3813 samples, validate on 2542 samples\n",
      "Epoch 1/50\n",
      "1s - loss: 0.6161 - acc: 0.6787 - val_loss: 0.6440 - val_acc: 0.6511\n",
      "Epoch 2/50\n",
      "0s - loss: 0.5846 - acc: 0.7047 - val_loss: 0.6822 - val_acc: 0.6208\n",
      "Epoch 3/50\n",
      "0s - loss: 0.5849 - acc: 0.6984 - val_loss: 0.7006 - val_acc: 0.6208\n",
      "Epoch 4/50\n",
      "0s - loss: 0.5715 - acc: 0.7086 - val_loss: 0.7107 - val_acc: 0.6109\n",
      "Epoch 5/50\n",
      "0s - loss: 0.5698 - acc: 0.7023 - val_loss: 0.9562 - val_acc: 0.5189\n",
      "Epoch 6/50\n",
      "0s - loss: 0.5737 - acc: 0.7076 - val_loss: 0.6825 - val_acc: 0.6467\n",
      "Epoch 7/50\n",
      "0s - loss: 0.5568 - acc: 0.7160 - val_loss: 0.7141 - val_acc: 0.6357\n",
      "Epoch 8/50\n",
      "1s - loss: 0.5633 - acc: 0.7157 - val_loss: 0.6529 - val_acc: 0.6428\n",
      "Epoch 9/50\n",
      "1s - loss: 0.5438 - acc: 0.7270 - val_loss: 0.6685 - val_acc: 0.6456\n",
      "Epoch 10/50\n",
      "1s - loss: 0.5489 - acc: 0.7210 - val_loss: 0.7109 - val_acc: 0.6459\n",
      "Epoch 11/50\n",
      "1s - loss: 0.5477 - acc: 0.7223 - val_loss: 0.8041 - val_acc: 0.6302\n",
      "Epoch 00010: early stopping\n"
     ]
    }
   ],
   "source": [
    "model6.compile(optimizer=RMSprop(),\n",
    "             loss='categorical_crossentropy',\n",
    "             metrics = ['accuracy'])\n",
    "\n",
    "model_fit6 = model6.fit(X_train, \n",
    "          train_y,\n",
    "          batch_size=254,\n",
    "          epochs=50, \n",
    "          validation_split = .40,\n",
    "         verbose=2, \n",
    "        callbacks = [EarlyStopping(monitor='val_acc', min_delta=0, patience=5, verbose=2, mode='min')])"
   ]
  },
  {
   "cell_type": "code",
   "execution_count": 172,
   "metadata": {},
   "outputs": [],
   "source": [
    "model6_epoch = model_fit6.epoch"
   ]
  },
  {
   "cell_type": "code",
   "execution_count": 173,
   "metadata": {
    "collapsed": true
   },
   "outputs": [],
   "source": [
    "model6_acc = model_fit6.history['acc']\n",
    "model6_val_acc = model_fit6.history['val_acc']"
   ]
  },
  {
   "cell_type": "code",
   "execution_count": 174,
   "metadata": {},
   "outputs": [
    {
     "data": {
      "image/png": "[encoded data removed]",
      "text/plain": [
       "<matplotlib.figure.Figure at 0x7f3c9e614ef0>"
      ]
     },
     "metadata": {},
     "output_type": "display_data"
    }
   ],
   "source": [
    "val_acc_line, = plt.plot(model6_epoch, model6_val_acc, color = 'red', label='val_acc')\n",
    "acc_line, = plt.plot(model6_epoch, model6_acc, color = 'blue', label='acc')\n",
    "plt.legend(handles=[val_acc_line, acc_line])\n",
    "plt.grid()\n",
    "plt.show()"
   ]
  },
  {
   "cell_type": "code",
   "execution_count": null,
   "metadata": {
    "collapsed": true
   },
   "outputs": [],
   "source": []
  }
 ],
 "metadata": {
  "kernelspec": {
   "display_name": "Python 3",
   "language": "python",
   "name": "python3"
  },
  "language_info": {
   "codemirror_mode": {
    "name": "ipython",
    "version": 3
   },
   "file_extension": ".py",
   "mimetype": "text/x-python",
   "name": "python",
   "nbconvert_exporter": "python",
   "pygments_lexer": "ipython3",
   "version": "3.5.2"
  }
 },
 "nbformat": 4,
 "nbformat_minor": 2
}
